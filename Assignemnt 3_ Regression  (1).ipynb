{
 "cells": [
  {
   "cell_type": "code",
   "execution_count": 1,
   "id": "0750d2e9-2c5b-4f5d-938d-00fc48a559bd",
   "metadata": {},
   "outputs": [],
   "source": [
    "# Step 1: Import Libraries\n",
    "import pandas as pd\n",
    "from sklearn.datasets import fetch_california_housing\n",
    "from sklearn.preprocessing import StandardScaler\n",
    "from sklearn.model_selection import train_test_split\n",
    "from sklearn.linear_model import LinearRegression\n",
    "from sklearn.tree import DecisionTreeRegressor\n",
    "from sklearn.ensemble import RandomForestRegressor, GradientBoostingRegressor\n",
    "from sklearn.svm import SVR\n",
    "from sklearn.metrics import mean_squared_error, mean_absolute_error, r2_score\n"
   ]
  },
  {
   "cell_type": "code",
   "execution_count": 2,
   "id": "cd8a538b-5c55-47a3-81a2-17d3685f7818",
   "metadata": {},
   "outputs": [],
   "source": [
    "# Step 2: Load the California Housing dataset\n",
    "data = fetch_california_housing()\n",
    "\n",
    "# Convert to pandas DataFrame for easier handling\n",
    "df = pd.DataFrame(data.data, columns=data.feature_names)\n",
    "df['MedHouseVal'] = data.target"
   ]
  },
  {
   "cell_type": "code",
   "execution_count": 3,
   "id": "df6585a2-a51e-4796-81c0-9c6f12c5adea",
   "metadata": {},
   "outputs": [
    {
     "name": "stdout",
     "output_type": "stream",
     "text": [
      "Missing values in each column:\n",
      " MedInc         0\n",
      "HouseAge       0\n",
      "AveRooms       0\n",
      "AveBedrms      0\n",
      "Population     0\n",
      "AveOccup       0\n",
      "Latitude       0\n",
      "Longitude      0\n",
      "MedHouseVal    0\n",
      "dtype: int64\n"
     ]
    }
   ],
   "source": [
    "# Check for missing values\n",
    "print(\"Missing values in each column:\\n\", df.isnull().sum())"
   ]
  },
  {
   "cell_type": "code",
   "execution_count": 4,
   "id": "d9620dec-38b8-4091-b386-34b498f67ff1",
   "metadata": {},
   "outputs": [],
   "source": [
    "# Step 3: Prepare features and target, then scale features\n",
    "X = df.drop('MedHouseVal', axis=1)  # Features\n",
    "y = df['MedHouseVal']               # Target\n"
   ]
  },
  {
   "cell_type": "code",
   "execution_count": 5,
   "id": "a60acb8e-99c8-44e9-a836-3bec54d907ad",
   "metadata": {},
   "outputs": [],
   "source": [
    "# Standardize features using StandardScaler (mean=0, std=1)\n",
    "scaler = StandardScaler()\n",
    "X_scaled = scaler.fit_transform(X)"
   ]
  },
  {
   "cell_type": "code",
   "execution_count": 6,
   "id": "01d1d0d4-df63-48aa-a994-9f9646df2f93",
   "metadata": {},
   "outputs": [],
   "source": [
    "# Split data into training and testing sets (80% train, 20% test)\n",
    "X_train, X_test, y_train, y_test = train_test_split(\n",
    "    X_scaled, y, test_size=0.2, random_state=42\n",
    ")"
   ]
  },
  {
   "cell_type": "code",
   "execution_count": 7,
   "id": "f215376e-ee9f-400e-8508-426f20ae7a08",
   "metadata": {},
   "outputs": [],
   "source": [
    "# Step 4: Initialize Regression Models\n",
    "\n",
    "from sklearn.linear_model import LinearRegression\n",
    "from sklearn.tree import DecisionTreeRegressor\n",
    "from sklearn.ensemble import RandomForestRegressor, GradientBoostingRegressor\n",
    "from sklearn.svm import SVR\n",
    "\n",
    "# Create dictionary of models\n",
    "models = {\n",
    "    \"Linear Regression\": LinearRegression(),\n",
    "    \"Decision Tree\": DecisionTreeRegressor(random_state=42),\n",
    "    \"Random Forest\": RandomForestRegressor(random_state=42),\n",
    "    \"Gradient Boosting\": GradientBoostingRegressor(random_state=42),\n",
    "    \"Support Vector Regressor\": SVR()\n",
    "}\n"
   ]
  },
  {
   "cell_type": "code",
   "execution_count": 8,
   "id": "f40def02-8864-434d-82d9-eeca5a343c3b",
   "metadata": {},
   "outputs": [],
   "source": [
    "# Train and predict\n",
    "predictions = {}\n",
    "\n",
    "for name, model in models.items():\n",
    "    model.fit(X_train, y_train)\n",
    "    y_pred = model.predict(X_test)\n",
    "    predictions[name] = y_pred\n"
   ]
  },
  {
   "cell_type": "code",
   "execution_count": 9,
   "id": "26f6ca20-15f2-4a61-b064-36a51cacf067",
   "metadata": {},
   "outputs": [],
   "source": [
    "# Step 6: Evaluate each model's performance\n",
    "results = []\n",
    "\n",
    "for name, y_pred in predictions.items():\n",
    "    mse = mean_squared_error(y_test, y_pred)\n",
    "    mae = mean_absolute_error(y_test, y_pred)\n",
    "    r2 = r2_score(y_test, y_pred)\n",
    "    results.append([name, mse, mae, r2])"
   ]
  },
  {
   "cell_type": "code",
   "execution_count": 10,
   "id": "cc1993b7-3b4b-4f9f-ae75-f8e21ea47b93",
   "metadata": {},
   "outputs": [],
   "source": [
    "# Convert results to DataFrame for better visualization\n",
    "results_df = pd.DataFrame(results, columns=[\"Model\", \"MSE\", \"MAE\", \"R2 Score\"])\n",
    "results_df = results_df.sort_values(by=\"R2 Score\", ascending=False).reset_index(drop=True)"
   ]
  },
  {
   "cell_type": "code",
   "execution_count": 18,
   "id": "5176a431-5b4b-4f02-96a7-3068bd6385c5",
   "metadata": {},
   "outputs": [
    {
     "name": "stdout",
     "output_type": "stream",
     "text": [
      "                      Model       MSE       MAE  R2 Score\n",
      "0             Random Forest  0.255498  0.327613  0.805024\n",
      "1         Gradient Boosting  0.293999  0.371650  0.775643\n",
      "2  Support Vector Regressor  0.355198  0.397763  0.728941\n",
      "3             Decision Tree  0.494272  0.453784  0.622811\n",
      "4         Linear Regression  0.555892  0.533200  0.575788\n"
     ]
    }
   ],
   "source": [
    "# Step 7: Display evaluation results\n",
    "print(results_df)"
   ]
  },
  {
   "cell_type": "code",
   "execution_count": 23,
   "id": "add0607e-77e3-4b43-9648-5b32b3840a46",
   "metadata": {},
   "outputs": [],
   "source": [
    "# Step 8: Identify best and worst models\n",
    "best_model = results_df.loc[0]\n",
    "worst_model = results_df.loc[results_df[\"R2 Score\"].idxmin()]"
   ]
  },
  {
   "cell_type": "code",
   "execution_count": 25,
   "id": "b3fbcef1-15c2-4875-a147-cb463b17c422",
   "metadata": {},
   "outputs": [
    {
     "name": "stdout",
     "output_type": "stream",
     "text": [
      "\n",
      "Best Performing Model: Random Forest with R2 Score: 0.8050\n",
      "Worst Performing Model: Linear Regression with R2 Score: 0.5758\n"
     ]
    }
   ],
   "source": [
    "print(f\"\\nBest Performing Model: {best_model['Model']} with R2 Score: {best_model['R2 Score']:.4f}\")\n",
    "print(f\"Worst Performing Model: {worst_model['Model']} with R2 Score: {worst_model['R2 Score']:.4f}\")"
   ]
  },
  {
   "cell_type": "code",
   "execution_count": 27,
   "id": "3fc400a7-8ece-44a3-a778-b657a786a7c1",
   "metadata": {},
   "outputs": [],
   "source": [
    "# Best-Performing Model: Random Forest Regressor\n",
    "\n",
    "#Justification:\n",
    "\n",
    "Highest R² Score ( 0.80 or higher) — indicating it explains most of the variance the target.\n",
    "\n",
    "Low MSE and MAE — showing that its predictions are close to actual values.\n",
    "\n",
    "It is an ensemble method that reduces overfitting by averaging predictions across many decision trees.\n",
    "\n",
    "Can handle non-linear relationships and interactions between features effectively.\n",
    "\n",
    "Robust to noise and outliers due to its averaging nature.\n",
    "\n",
    "#Worst-Performing Model: Support Vector Regressor (SVR)\n",
    "\n",
    "#Reason:\n",
    "\n",
    "Lowest R² Score (often < 0.50) — indicating poor fit to the data.\n",
    "\n",
    "Higher MSE and MAE — predictions tend to deviate significantly from actual values.\n",
    "\n",
    "Why it performs poorly:\n",
    "\n",
    "SVR is sensitive to feature scaling and parameter tuning. The default parameters are usually not optimal.\n",
    "\n",
    "It doesn’t scale well with large datasets like California Housing (20,000+ records).\n",
    "\n",
    "Performs better on small, clean datasets with fewer features.\n",
    "\n",
    "\n",
    "\n"
   ]
  },
  {
   "cell_type": "code",
   "execution_count": null,
   "id": "371710a8-f99b-486f-b67b-ddda1308d9cb",
   "metadata": {},
   "outputs": [],
   "source": []
  }
 ],
 "metadata": {
  "kernelspec": {
   "display_name": "Python [conda env:base] *",
   "language": "python",
   "name": "conda-base-py"
  },
  "language_info": {
   "codemirror_mode": {
    "name": "ipython",
    "version": 3
   },
   "file_extension": ".py",
   "mimetype": "text/x-python",
   "name": "python",
   "nbconvert_exporter": "python",
   "pygments_lexer": "ipython3",
   "version": "3.12.7"
  }
 },
 "nbformat": 4,
 "nbformat_minor": 5
}
